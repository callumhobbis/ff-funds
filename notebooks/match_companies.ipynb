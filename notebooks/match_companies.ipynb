{
 "cells": [
  {
   "cell_type": "code",
   "execution_count": null,
   "metadata": {},
   "outputs": [],
   "source": [
    "import json\n",
    "from pathlib import Path\n",
    "\n",
    "import pandas as pd\n",
    "import numpy as np\n",
    "import matplotlib.pyplot as plt\n",
    "import matplotlib.ticker as mtick\n",
    "\n",
    "from fffunds.company import identify_company\n",
    "\n",
    "FF_COMPS_PATH = Path(\"../data/ff_comps.csv\")\n",
    "COMPARISON_PATH = Path(\"../tests/ff_names_matched.csv\")\n",
    "FUND_HOLDINGS_PATH = Path(\"../data/mbie_fund_holdings.json\")"
   ]
  },
  {
   "cell_type": "code",
   "execution_count": null,
   "metadata": {},
   "outputs": [],
   "source": [
    "# Import with Pandas as real data may be more than just a list of names.\n",
    "ff_comps = pd.read_csv(FF_COMPS_PATH, header=None, names=[\"name\"])\n",
    "ff_names = ff_comps[\"name\"].to_list()\n",
    "display(ff_names)"
   ]
  },
  {
   "cell_type": "code",
   "execution_count": null,
   "metadata": {},
   "outputs": [],
   "source": [
    "with FUND_HOLDINGS_PATH.open() as fp:\n",
    "    fund_data = json.load(fp)\n",
    "\n",
    "# Convert nested data into a single table.\n",
    "holdings = pd.DataFrame(\n",
    "    [\n",
    "        [fund[\"fund_name\"], holding[\"holding\"], holding[\"amount\"]]\n",
    "        for fund in fund_data\n",
    "        for holding in fund[\"holdings\"]\n",
    "    ],\n",
    "    columns=[\"fund\", \"company_name\", \"amount\"],\n",
    ")\n",
    "\n",
    "holdings[\"identified\"] = holdings[\"company_name\"].apply(\n",
    "    lambda x: identify_company(x, ff_names, strict=False)\n",
    ")\n",
    "holdings[\"is_ff\"] = ~holdings[\"identified\"].isna()\n",
    "\n",
    "display(holdings)"
   ]
  },
  {
   "cell_type": "code",
   "execution_count": null,
   "metadata": {},
   "outputs": [],
   "source": [
    "# calculate proportion going to fossil fuel companies\n",
    "fund_res = holdings.groupby(\"fund\").agg(total=(\"amount\", \"sum\"))\n",
    "fund_res[\"ff_amount\"] = (\n",
    "    holdings[holdings[\"is_ff\"]].groupby(\"fund\").agg({\"amount\": \"sum\"})\n",
    ")\n",
    "fund_res[\"prop\"] = fund_res[\"ff_amount\"] / fund_res[\"total\"]\n",
    "\n",
    "# descending makes bars in chart below ascending from top to bottom\n",
    "fund_res = fund_res.sort_values(\"prop\", ascending=False)\n",
    "display(fund_res)"
   ]
  },
  {
   "cell_type": "markdown",
   "metadata": {},
   "source": [
    "## Data visualisation"
   ]
  },
  {
   "cell_type": "code",
   "execution_count": null,
   "metadata": {},
   "outputs": [],
   "source": [
    "fig, ax = plt.subplots()\n",
    "ax.barh(np.arange(len(fund_res)), 100 * fund_res[\"prop\"])\n",
    "ax.set_yticks(np.arange(len(fund_res)), labels=fund_res.index)\n",
    "ax.set_xlabel(\"Proportion of funds going to fossil fuel companies\")\n",
    "ax.xaxis.set_major_formatter(mtick.PercentFormatter())\n",
    "\n",
    "# Make labels for total amount going to fossil fuels\n",
    "labels = [f\"${amount/1e6:.1f}m\" for amount in fund_res[\"ff_amount\"]]\n",
    "ax.bar_label(\n",
    "    ax.containers[0],\n",
    "    labels=labels,\n",
    "    label_type=\"center\",\n",
    "    color=\"white\",\n",
    "    weight=\"bold\",\n",
    ");"
   ]
  }
 ],
 "metadata": {
  "kernelspec": {
   "display_name": "fffunds-VnRWNKVK-py3.12",
   "language": "python",
   "name": "python3"
  },
  "language_info": {
   "codemirror_mode": {
    "name": "ipython",
    "version": 3
   },
   "file_extension": ".py",
   "mimetype": "text/x-python",
   "name": "python",
   "nbconvert_exporter": "python",
   "pygments_lexer": "ipython3",
   "version": "3.12.2"
  }
 },
 "nbformat": 4,
 "nbformat_minor": 2
}
